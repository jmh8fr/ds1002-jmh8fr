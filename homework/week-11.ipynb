{
  "nbformat": 4,
  "nbformat_minor": 0,
  "metadata": {
    "colab": {
      "provenance": [],
      "include_colab_link": true
    },
    "kernelspec": {
      "name": "python3",
      "display_name": "Python 3"
    },
    "language_info": {
      "name": "python"
    }
  },
  "cells": [
    {
      "cell_type": "markdown",
      "metadata": {
        "id": "view-in-github",
        "colab_type": "text"
      },
      "source": [
        "<a href=\"https://colab.research.google.com/github/jmh8fr/ds1002-jmh8fr/blob/main/homework/week-11.ipynb\" target=\"_parent\"><img src=\"https://colab.research.google.com/assets/colab-badge.svg\" alt=\"Open In Colab\"/></a>"
      ]
    },
    {
      "cell_type": "markdown",
      "source": [
        "# Homework - Error Handling & Recursion\n",
        "\n",
        "Complete the cells below. Pay close attention to all directions given.\n",
        "\n",
        "## Error Handling (3 pts)\n",
        "\n",
        "```\n",
        "def throw_me_an_error():\n",
        "  val1 = 14\n",
        "  val2 = 0\n",
        "  return val1 / val2\n",
        "\n",
        "throw_me_an_error()\n",
        "```\n",
        "\n",
        "The function above is designed to deliberately throw an error.\n",
        "\n",
        "Create a new version of the function but add `try` and `except` statements correctly. Your exception should print out the type of error this function created. There are a couple of different ways you could do this.\n"
      ],
      "metadata": {
        "id": "v14Xtd9oiTGF"
      }
    },
    {
      "cell_type": "code",
      "execution_count": 8,
      "metadata": {
        "id": "-dfq0Vo_iSi7",
        "outputId": "fbd38ce7-7f5f-477e-df57-e4b177ce3e25",
        "colab": {
          "base_uri": "https://localhost:8080/"
        }
      },
      "outputs": [
        {
          "metadata": {
            "tags": null
          },
          "name": "stdout",
          "output_type": "stream",
          "text": [
            "Caught an error: ZeroDivisionError\n"
          ]
        }
      ],
      "source": [
        "# answer goes here.\n",
        "def throw_me_an_error():\n",
        "  val1 = 14\n",
        "  val2 = 0\n",
        "  try:\n",
        "    result = val1 / val2\n",
        "  except ZeroDivisionError as e:\n",
        "    print(\"Caught an error:\", type(e).__name__)\n",
        "    result = None\n",
        "  return result\n",
        "\n",
        "throw_me_an_error()"
      ]
    },
    {
      "cell_type": "markdown",
      "source": [
        "## Error Handling (4 pts)\n",
        "\n",
        "Extend the class below to include some error handling. Assume the remote resource is offline for a moment: How would you give a message to the user indicating what has gone wrong? (Hint: one way you can test this is by deliberately misspelling the URL for the remote resource.)\n",
        "\n",
        "Also, include error handling logic so that execution of the class method `guid()` always returns a line \"Your request has been completed\" along with the guid it created.\n",
        "\n",
        "```\n",
        "import requests\n",
        "import json\n",
        "import sys\n",
        "\n",
        "class Id:\n",
        "\n",
        "  def guid():\n",
        "    response = requests.get('https://ids.pods.uvarc.io/guid')\n",
        "    body = json.loads(response.text)\n",
        "    return body['id']\n",
        "\n",
        "Id.guid()\n",
        "```"
      ],
      "metadata": {
        "id": "gf9m78RWmWqC"
      }
    },
    {
      "cell_type": "code",
      "source": [
        "# answer goes here\n",
        "import requests\n",
        "import json\n",
        "import sys\n",
        "\n",
        "class Id:\n",
        "  def guid():\n",
        "    try:\n",
        "      response = requests.get('https://ids.pods.uvarc.io/guid')\n",
        "      response.raise_for_status()\n",
        "\n",
        "      body = json.loads(response.text)\n",
        "      guid_value = body['id']\n",
        "    except requests.exceptions.RequestException as e:\n",
        "      print(f\"An Error has occurred: {e}\")\n",
        "      guid_value = \"Unavailable\"\n",
        "    except json.JSONDecodeError:\n",
        "      print(\"Failed to decode the JSON response\")\n",
        "      guid_value = \"Unavailable\"\n",
        "    except KeyError:\n",
        "      print(\"The 'id' field is missing in the response\")\n",
        "      guid_value = \"Unavailable\"\n",
        "    finally:\n",
        "      print(\"Your request has been completed\")\n",
        "\n",
        "    return guid_value"
      ],
      "metadata": {
        "id": "hT5B-LokmUbU"
      },
      "execution_count": 2,
      "outputs": []
    },
    {
      "cell_type": "code",
      "source": [
        "guid = Id.guid()\n",
        "print(f\"Generated GUID: {guid}\")"
      ],
      "metadata": {
        "id": "UkKur4FyeqtE",
        "outputId": "0f6fe0cd-b6cf-40e1-ccbf-d6460c0370f1",
        "colab": {
          "base_uri": "https://localhost:8080/"
        }
      },
      "execution_count": 3,
      "outputs": [
        {
          "output_type": "stream",
          "name": "stdout",
          "text": [
            "Your request has been completed\n",
            "Generated GUID: 9affe928-7ff4-4cc2-be38-6abd3885b9b3\n"
          ]
        }
      ]
    },
    {
      "cell_type": "markdown",
      "source": [
        "## Recursive Functions (3 pts)\n",
        "\n",
        "In the cell below, explain line by line the logic of what is being calculated when the function is called with an input value of 2.\n",
        "\n",
        "```\n",
        "def squarer(n):\n",
        "  if n == 1:\n",
        "    return 2\n",
        "  else:\n",
        "    return squarer(n-1) ** 2 + n\n",
        "\n",
        "squarer(2)\n",
        "```"
      ],
      "metadata": {
        "id": "XCuNofSFomZ6"
      }
    },
    {
      "cell_type": "code",
      "source": [
        "# answer goes here. Add space as needed.\n",
        "\n",
        "Line 1. #the function checks if 'n' is 1. Since it isn't 1 (n is 2), it proceeds to the else\n",
        "Line 2. #in the 'else' branch, it calls itself 'n-1', which is 'squarer(1)'\n",
        "Line 3. #now an updated call to 'squarer starts, with 'n' being 1 this time. It hits the original case (if 'n' == 1), so it returns 2\n",
        "Line 4. #we then go back to the previous call stack with 'n' being 2. The return value from 'squarer(1)' was 2, so we square this value (2**2 = 4) and add 'n' to it, which is 2\n",
        "Line 5. #the final result of 'squarer(2)' is '4 + 2', which equals '6', therefore 'squarer(2)' will compute to '6'\n"
      ],
      "metadata": {
        "id": "oYiqS2cxxXm4",
        "outputId": "033e2289-b410-4206-979e-a82419f57337",
        "colab": {
          "base_uri": "https://localhost:8080/",
          "height": 143
        }
      },
      "execution_count": 7,
      "outputs": [
        {
          "output_type": "error",
          "ename": "SyntaxError",
          "evalue": "ignored",
          "traceback": [
            "\u001b[0;36m  File \u001b[0;32m\"<ipython-input-7-86cf398e327f>\"\u001b[0;36m, line \u001b[0;32m3\u001b[0m\n\u001b[0;31m    Line 1 #the function checks if 'n' is 1. Since it isn't 1 (n is 2), it proceeds to the else\u001b[0m\n\u001b[0m         ^\u001b[0m\n\u001b[0;31mSyntaxError\u001b[0m\u001b[0;31m:\u001b[0m invalid syntax\n"
          ]
        }
      ]
    }
  ]
}