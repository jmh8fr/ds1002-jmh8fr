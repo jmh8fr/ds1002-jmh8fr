{
  "nbformat": 4,
  "nbformat_minor": 0,
  "metadata": {
    "colab": {
      "provenance": [],
      "include_colab_link": true
    },
    "kernelspec": {
      "name": "ir",
      "display_name": "R"
    },
    "language_info": {
      "name": "R"
    }
  },
  "cells": [
    {
      "cell_type": "markdown",
      "metadata": {
        "id": "view-in-github",
        "colab_type": "text"
      },
      "source": [
        "<a href=\"https://colab.research.google.com/github/jmh8fr/ds1002-jmh8fr/blob/main/homework/week-13.ipynb\" target=\"_parent\"><img src=\"https://colab.research.google.com/assets/colab-badge.svg\" alt=\"Open In Colab\"/></a>"
      ]
    },
    {
      "cell_type": "markdown",
      "source": [
        "# Homework - Week 13\n",
        "\n",
        "Complete the following blocks as specified in the directions. Run each cell to return the desired output. Save your notebook back to your GitHub repository and submit the GitHub URL to your notebook for review."
      ],
      "metadata": {
        "id": "sZruw3XQogej"
      }
    },
    {
      "cell_type": "markdown",
      "source": [
        "## 1. Change Runtime to R (1 pt)\n",
        "\n",
        "Change the runtime of this notebook to R. You can verify that you are running R by displaying the current version you are running. Run the cell below and show the output."
      ],
      "metadata": {
        "id": "KmpG99aAokL9"
      }
    },
    {
      "cell_type": "code",
      "execution_count": 1,
      "metadata": {
        "id": "k03Z1NKAoZrW",
        "outputId": "84e8b9d1-ddc8-4cee-f693-74b72b364ae7",
        "colab": {
          "base_uri": "https://localhost:8080/",
          "height": 285
        }
      },
      "outputs": [
        {
          "output_type": "display_data",
          "data": {
            "text/plain": [
              "               _                           \n",
              "platform       x86_64-pc-linux-gnu         \n",
              "arch           x86_64                      \n",
              "os             linux-gnu                   \n",
              "system         x86_64, linux-gnu           \n",
              "status                                     \n",
              "major          4                           \n",
              "minor          3.2                         \n",
              "year           2023                        \n",
              "month          10                          \n",
              "day            31                          \n",
              "svn rev        85441                       \n",
              "language       R                           \n",
              "version.string R version 4.3.2 (2023-10-31)\n",
              "nickname       Eye Holes                   "
            ]
          },
          "metadata": {}
        }
      ],
      "source": [
        "version"
      ]
    },
    {
      "cell_type": "markdown",
      "source": [
        "## 2. Create Vectors (2 pts)\n",
        "\n",
        "Create two vectors in the cells below, according to the prompts given."
      ],
      "metadata": {
        "id": "lkaofBQypx1X"
      }
    },
    {
      "cell_type": "code",
      "source": [
        "# create a vector with 7 integer values. Assign it to a variable named \"my_integers\"\n",
        "my_integers <- c(1, 2, 3, 4, 5, 6, 7)\n",
        "my_integers\n"
      ],
      "metadata": {
        "id": "1fjq5bkEp6Zv",
        "outputId": "628c11dd-6b9a-422c-9a8b-c618073dc0bb",
        "colab": {
          "base_uri": "https://localhost:8080/",
          "height": 34
        }
      },
      "execution_count": 4,
      "outputs": [
        {
          "output_type": "display_data",
          "data": {
            "text/html": [
              "<style>\n",
              ".list-inline {list-style: none; margin:0; padding: 0}\n",
              ".list-inline>li {display: inline-block}\n",
              ".list-inline>li:not(:last-child)::after {content: \"\\00b7\"; padding: 0 .5ex}\n",
              "</style>\n",
              "<ol class=list-inline><li>1</li><li>2</li><li>3</li><li>4</li><li>5</li><li>6</li><li>7</li></ol>\n"
            ],
            "text/markdown": "1. 1\n2. 2\n3. 3\n4. 4\n5. 5\n6. 6\n7. 7\n\n\n",
            "text/latex": "\\begin{enumerate*}\n\\item 1\n\\item 2\n\\item 3\n\\item 4\n\\item 5\n\\item 6\n\\item 7\n\\end{enumerate*}\n",
            "text/plain": [
              "[1] 1 2 3 4 5 6 7"
            ]
          },
          "metadata": {}
        }
      ]
    },
    {
      "cell_type": "code",
      "source": [
        "var1 = 8\n",
        "var2 = 4\n",
        "var3 = 12\n",
        "var4 = 25\n",
        "\n",
        "new_var1 <- var2 / var1\n",
        "new_var2 <- var2^3 * var3\n",
        "new_var3 <- var4 %/% var3\n",
        "\n",
        "my_calculated_values <- array(c(new_var1, new_var2, new_var3))\n",
        "my_calculated_values\n",
        "# Using the variables given above, assign three new variables the following calculated values:\n",
        "#\n",
        "# 1. Your first variable should be assigned the calculated value of var2 divided by var1.\n",
        "# 2. Your second variable should be assigned the calculated value of var2 cubed times var3.\n",
        "# 3. Your third variable should be assigned the calculated value of var4 integer divided by var3.\n",
        "#\n",
        "# Next, create an array populated by your three variables. Assign the array to a new variable named \"my_calculated_values\""
      ],
      "metadata": {
        "id": "f3IFD-T6p6Rd",
        "outputId": "73e0ca64-2700-4d99-a4fc-af6d82e1108b",
        "colab": {
          "base_uri": "https://localhost:8080/",
          "height": 34
        }
      },
      "execution_count": 6,
      "outputs": [
        {
          "output_type": "display_data",
          "data": {
            "text/html": [
              "<style>\n",
              ".list-inline {list-style: none; margin:0; padding: 0}\n",
              ".list-inline>li {display: inline-block}\n",
              ".list-inline>li:not(:last-child)::after {content: \"\\00b7\"; padding: 0 .5ex}\n",
              "</style>\n",
              "<ol class=list-inline><li>0.5</li><li>768</li><li>2</li></ol>\n"
            ],
            "text/markdown": "1. 0.5\n2. 768\n3. 2\n\n\n",
            "text/latex": "\\begin{enumerate*}\n\\item 0.5\n\\item 768\n\\item 2\n\\end{enumerate*}\n",
            "text/plain": [
              "[1]   0.5 768.0   2.0"
            ]
          },
          "metadata": {}
        }
      ]
    },
    {
      "cell_type": "markdown",
      "source": [
        "## 3. Vector Indexes (3 pts)"
      ],
      "metadata": {
        "id": "F6Rx0GIGrpOB"
      }
    },
    {
      "cell_type": "markdown",
      "source": [
        "In the cell below, create a vector that starts with the integer 4, that increments by counts of 3 all the way to 28.\n",
        "\n",
        "Assign the vector to a variable name."
      ],
      "metadata": {
        "id": "IDLyOjOJsFCX"
      }
    },
    {
      "cell_type": "code",
      "source": [
        "#\n",
        "my_vector <- seq(from = 4, to = 28, by = 3)\n",
        "my_vector"
      ],
      "metadata": {
        "id": "0D5Ia-BPsoPZ",
        "outputId": "3e4a3378-cb4f-4c35-eaff-c50ac791f2fc",
        "colab": {
          "base_uri": "https://localhost:8080/",
          "height": 34
        }
      },
      "execution_count": 13,
      "outputs": [
        {
          "output_type": "display_data",
          "data": {
            "text/html": [
              "<style>\n",
              ".list-inline {list-style: none; margin:0; padding: 0}\n",
              ".list-inline>li {display: inline-block}\n",
              ".list-inline>li:not(:last-child)::after {content: \"\\00b7\"; padding: 0 .5ex}\n",
              "</style>\n",
              "<ol class=list-inline><li>4</li><li>7</li><li>10</li><li>13</li><li>16</li><li>19</li><li>22</li><li>25</li><li>28</li></ol>\n"
            ],
            "text/markdown": "1. 4\n2. 7\n3. 10\n4. 13\n5. 16\n6. 19\n7. 22\n8. 25\n9. 28\n\n\n",
            "text/latex": "\\begin{enumerate*}\n\\item 4\n\\item 7\n\\item 10\n\\item 13\n\\item 16\n\\item 19\n\\item 22\n\\item 25\n\\item 28\n\\end{enumerate*}\n",
            "text/plain": [
              "[1]  4  7 10 13 16 19 22 25 28"
            ]
          },
          "metadata": {}
        }
      ]
    },
    {
      "cell_type": "markdown",
      "source": [
        "Next, show how to display this vector with the 3 index removed."
      ],
      "metadata": {
        "id": "RxFRiRMvtfXI"
      }
    },
    {
      "cell_type": "code",
      "source": [
        "#\n",
        "my_vector[-3]"
      ],
      "metadata": {
        "id": "MBg7V1LztQlv",
        "outputId": "0f4c5966-bf04-42f5-a84e-6b7a6c6b4556",
        "colab": {
          "base_uri": "https://localhost:8080/",
          "height": 34
        }
      },
      "execution_count": 14,
      "outputs": [
        {
          "output_type": "display_data",
          "data": {
            "text/html": [
              "<style>\n",
              ".list-inline {list-style: none; margin:0; padding: 0}\n",
              ".list-inline>li {display: inline-block}\n",
              ".list-inline>li:not(:last-child)::after {content: \"\\00b7\"; padding: 0 .5ex}\n",
              "</style>\n",
              "<ol class=list-inline><li>4</li><li>7</li><li>13</li><li>16</li><li>19</li><li>22</li><li>25</li><li>28</li></ol>\n"
            ],
            "text/markdown": "1. 4\n2. 7\n3. 13\n4. 16\n5. 19\n6. 22\n7. 25\n8. 28\n\n\n",
            "text/latex": "\\begin{enumerate*}\n\\item 4\n\\item 7\n\\item 13\n\\item 16\n\\item 19\n\\item 22\n\\item 25\n\\item 28\n\\end{enumerate*}\n",
            "text/plain": [
              "[1]  4  7 13 16 19 22 25 28"
            ]
          },
          "metadata": {}
        }
      ]
    },
    {
      "cell_type": "markdown",
      "source": [
        "Finally, show how to delete the 4th, 5th, and 7th indexes from the vector and update the vector so they are forever removed from the vector.\n",
        "\n",
        "Hint: there is a fairly simple way to do this in one line, such that you don't have to run a separate command for each removal."
      ],
      "metadata": {
        "id": "Rmci-rVCtq-C"
      }
    },
    {
      "cell_type": "code",
      "source": [
        "#\n",
        "my_vector <- my_vector[-c(4, 5, 7)]\n",
        "my_vector"
      ],
      "metadata": {
        "id": "y1k0NHNruFX2",
        "outputId": "5eed9d34-c802-4f48-9492-4a863537ab0f",
        "colab": {
          "base_uri": "https://localhost:8080/",
          "height": 34
        }
      },
      "execution_count": 15,
      "outputs": [
        {
          "output_type": "display_data",
          "data": {
            "text/html": [
              "<style>\n",
              ".list-inline {list-style: none; margin:0; padding: 0}\n",
              ".list-inline>li {display: inline-block}\n",
              ".list-inline>li:not(:last-child)::after {content: \"\\00b7\"; padding: 0 .5ex}\n",
              "</style>\n",
              "<ol class=list-inline><li>4</li><li>7</li><li>10</li><li>19</li><li>25</li><li>28</li></ol>\n"
            ],
            "text/markdown": "1. 4\n2. 7\n3. 10\n4. 19\n5. 25\n6. 28\n\n\n",
            "text/latex": "\\begin{enumerate*}\n\\item 4\n\\item 7\n\\item 10\n\\item 19\n\\item 25\n\\item 28\n\\end{enumerate*}\n",
            "text/plain": [
              "[1]  4  7 10 19 25 28"
            ]
          },
          "metadata": {}
        }
      ]
    },
    {
      "cell_type": "markdown",
      "source": [
        "## 4. Create a Data Frame (3 pts)\n",
        "\n",
        "In the cell below create a data frame with 10 observations (rows) and 5 variables (columns) each. This data frame will describe some of your favorite musical performers. You can use real or fictitious data to populate your data frame.\n",
        "\n",
        "Variables:\n",
        "  - `artist` - Artist or band name\n",
        "  - `category` - Rock, Pop, Country, Hip-hop, Jazz, Classical, Soul, Other. (Try to distribute your selections here)\n",
        "  - `size` - (number of members, 1-?)\n",
        "  - `start` - Debut year of artist.\n",
        "  - `grammy` - Grammmy winner? `TRUE` | `FALSE`\n",
        "\n",
        "First create vectors for each variable populated with your own performer data. Then create a data frame from these vectors (be sure to assign column names too) and assign it to a named variable such as `df`."
      ],
      "metadata": {
        "id": "-2ZaFcCCv3o8"
      }
    },
    {
      "cell_type": "code",
      "source": [
        "#\n",
        "Artist <- c(\"Band A\", \"Band B\", \"Band C\", \"Band D\", \"Band E\", \"Band F\", \"Band G\", \"Band H\", \"Band I\", \"Band J\")\n",
        "Category <- c(\"Rock\", \"Pop\", \"Country\", \"Hip-Hop\", \"Jazz\", \"Classical\", \"Soul\", \"Indie\", \"Metal\", \"K-Pop\")\n",
        "Size <- c(2, 3, 4, 1, 2, 6, 4, 3, 4, 2)\n",
        "Start <- c(2000, 1995, 1998, 2001, 2002, 2007, 2009, 1999, 2005, 2006)\n",
        "GrammyWinner <- c(TRUE, FALSE, TRUE, TRUE, FALSE, TRUE, FALSE, FALSE, TRUE, FALSE)\n",
        "\n",
        "df <- data.frame(Artist, Category, Size, Start, GrammyWinner)\n",
        "\n",
        "names(df) <- c(\"Artist\", \"Category\", \"Size\", \"Start\", \"GrammyWinner\")\n",
        "df"
      ],
      "metadata": {
        "id": "V4nBsdVsyauQ",
        "outputId": "86aa8775-e9d3-4dca-bace-bbe08e77fe4b",
        "colab": {
          "base_uri": "https://localhost:8080/",
          "height": 412
        }
      },
      "execution_count": 16,
      "outputs": [
        {
          "output_type": "display_data",
          "data": {
            "text/html": [
              "<table class=\"dataframe\">\n",
              "<caption>A data.frame: 10 × 5</caption>\n",
              "<thead>\n",
              "\t<tr><th scope=col>Artist</th><th scope=col>Category</th><th scope=col>Size</th><th scope=col>Start</th><th scope=col>GrammyWinner</th></tr>\n",
              "\t<tr><th scope=col>&lt;chr&gt;</th><th scope=col>&lt;chr&gt;</th><th scope=col>&lt;dbl&gt;</th><th scope=col>&lt;dbl&gt;</th><th scope=col>&lt;lgl&gt;</th></tr>\n",
              "</thead>\n",
              "<tbody>\n",
              "\t<tr><td>Band A</td><td>Rock     </td><td>2</td><td>2000</td><td> TRUE</td></tr>\n",
              "\t<tr><td>Band B</td><td>Pop      </td><td>3</td><td>1995</td><td>FALSE</td></tr>\n",
              "\t<tr><td>Band C</td><td>Country  </td><td>4</td><td>1998</td><td> TRUE</td></tr>\n",
              "\t<tr><td>Band D</td><td>Hip-Hop  </td><td>1</td><td>2001</td><td> TRUE</td></tr>\n",
              "\t<tr><td>Band E</td><td>Jazz     </td><td>2</td><td>2002</td><td>FALSE</td></tr>\n",
              "\t<tr><td>Band F</td><td>Classical</td><td>6</td><td>2007</td><td> TRUE</td></tr>\n",
              "\t<tr><td>Band G</td><td>Soul     </td><td>4</td><td>2009</td><td>FALSE</td></tr>\n",
              "\t<tr><td>Band H</td><td>Indie    </td><td>3</td><td>1999</td><td>FALSE</td></tr>\n",
              "\t<tr><td>Band I</td><td>Metal    </td><td>4</td><td>2005</td><td> TRUE</td></tr>\n",
              "\t<tr><td>Band J</td><td>K-Pop    </td><td>2</td><td>2006</td><td>FALSE</td></tr>\n",
              "</tbody>\n",
              "</table>\n"
            ],
            "text/markdown": "\nA data.frame: 10 × 5\n\n| Artist &lt;chr&gt; | Category &lt;chr&gt; | Size &lt;dbl&gt; | Start &lt;dbl&gt; | GrammyWinner &lt;lgl&gt; |\n|---|---|---|---|---|\n| Band A | Rock      | 2 | 2000 |  TRUE |\n| Band B | Pop       | 3 | 1995 | FALSE |\n| Band C | Country   | 4 | 1998 |  TRUE |\n| Band D | Hip-Hop   | 1 | 2001 |  TRUE |\n| Band E | Jazz      | 2 | 2002 | FALSE |\n| Band F | Classical | 6 | 2007 |  TRUE |\n| Band G | Soul      | 4 | 2009 | FALSE |\n| Band H | Indie     | 3 | 1999 | FALSE |\n| Band I | Metal     | 4 | 2005 |  TRUE |\n| Band J | K-Pop     | 2 | 2006 | FALSE |\n\n",
            "text/latex": "A data.frame: 10 × 5\n\\begin{tabular}{lllll}\n Artist & Category & Size & Start & GrammyWinner\\\\\n <chr> & <chr> & <dbl> & <dbl> & <lgl>\\\\\n\\hline\n\t Band A & Rock      & 2 & 2000 &  TRUE\\\\\n\t Band B & Pop       & 3 & 1995 & FALSE\\\\\n\t Band C & Country   & 4 & 1998 &  TRUE\\\\\n\t Band D & Hip-Hop   & 1 & 2001 &  TRUE\\\\\n\t Band E & Jazz      & 2 & 2002 & FALSE\\\\\n\t Band F & Classical & 6 & 2007 &  TRUE\\\\\n\t Band G & Soul      & 4 & 2009 & FALSE\\\\\n\t Band H & Indie     & 3 & 1999 & FALSE\\\\\n\t Band I & Metal     & 4 & 2005 &  TRUE\\\\\n\t Band J & K-Pop     & 2 & 2006 & FALSE\\\\\n\\end{tabular}\n",
            "text/plain": [
              "   Artist Category  Size Start GrammyWinner\n",
              "1  Band A Rock      2    2000   TRUE       \n",
              "2  Band B Pop       3    1995  FALSE       \n",
              "3  Band C Country   4    1998   TRUE       \n",
              "4  Band D Hip-Hop   1    2001   TRUE       \n",
              "5  Band E Jazz      2    2002  FALSE       \n",
              "6  Band F Classical 6    2007   TRUE       \n",
              "7  Band G Soul      4    2009  FALSE       \n",
              "8  Band H Indie     3    1999  FALSE       \n",
              "9  Band I Metal     4    2005   TRUE       \n",
              "10 Band J K-Pop     2    2006  FALSE       "
            ]
          },
          "metadata": {}
        }
      ]
    },
    {
      "cell_type": "markdown",
      "source": [
        "## 5. Filter/Query a Data Frame (2 pts)\n",
        "\n",
        "Use the data frame you created above and show how to perform the following queries."
      ],
      "metadata": {
        "id": "nG5m-FIRydNU"
      }
    },
    {
      "cell_type": "code",
      "source": [
        "# Display the first 3 records and only the `artist`, `category` and `grammy` columns for each.\n",
        "df_subset <- df[1:3, c(\"Artist\", \"Category\", \"GrammyWinner\")]\n",
        "df_subset"
      ],
      "metadata": {
        "id": "OlmbfFi6zSgR",
        "outputId": "1c23e4d6-23e0-465d-b356-23605eb7964b",
        "colab": {
          "base_uri": "https://localhost:8080/",
          "height": 192
        }
      },
      "execution_count": 17,
      "outputs": [
        {
          "output_type": "display_data",
          "data": {
            "text/html": [
              "<table class=\"dataframe\">\n",
              "<caption>A data.frame: 3 × 3</caption>\n",
              "<thead>\n",
              "\t<tr><th></th><th scope=col>Artist</th><th scope=col>Category</th><th scope=col>GrammyWinner</th></tr>\n",
              "\t<tr><th></th><th scope=col>&lt;chr&gt;</th><th scope=col>&lt;chr&gt;</th><th scope=col>&lt;lgl&gt;</th></tr>\n",
              "</thead>\n",
              "<tbody>\n",
              "\t<tr><th scope=row>1</th><td>Band A</td><td>Rock   </td><td> TRUE</td></tr>\n",
              "\t<tr><th scope=row>2</th><td>Band B</td><td>Pop    </td><td>FALSE</td></tr>\n",
              "\t<tr><th scope=row>3</th><td>Band C</td><td>Country</td><td> TRUE</td></tr>\n",
              "</tbody>\n",
              "</table>\n"
            ],
            "text/markdown": "\nA data.frame: 3 × 3\n\n| <!--/--> | Artist &lt;chr&gt; | Category &lt;chr&gt; | GrammyWinner &lt;lgl&gt; |\n|---|---|---|---|\n| 1 | Band A | Rock    |  TRUE |\n| 2 | Band B | Pop     | FALSE |\n| 3 | Band C | Country |  TRUE |\n\n",
            "text/latex": "A data.frame: 3 × 3\n\\begin{tabular}{r|lll}\n  & Artist & Category & GrammyWinner\\\\\n  & <chr> & <chr> & <lgl>\\\\\n\\hline\n\t1 & Band A & Rock    &  TRUE\\\\\n\t2 & Band B & Pop     & FALSE\\\\\n\t3 & Band C & Country &  TRUE\\\\\n\\end{tabular}\n",
            "text/plain": [
              "  Artist Category GrammyWinner\n",
              "1 Band A Rock      TRUE       \n",
              "2 Band B Pop      FALSE       \n",
              "3 Band C Country   TRUE       "
            ]
          },
          "metadata": {}
        }
      ]
    },
    {
      "cell_type": "code",
      "source": [
        "# Display the records for just one musical category, such as only Rock bands or only Hip-hop bands.\n",
        "rock_bands <- df[df$Category == \"Rock\", ]\n",
        "rock_bands"
      ],
      "metadata": {
        "id": "-l_kpWSzzlhG",
        "outputId": "958d4dda-dfed-476e-e511-e9e403d86e6e",
        "colab": {
          "base_uri": "https://localhost:8080/",
          "height": 129
        }
      },
      "execution_count": 18,
      "outputs": [
        {
          "output_type": "display_data",
          "data": {
            "text/html": [
              "<table class=\"dataframe\">\n",
              "<caption>A data.frame: 1 × 5</caption>\n",
              "<thead>\n",
              "\t<tr><th></th><th scope=col>Artist</th><th scope=col>Category</th><th scope=col>Size</th><th scope=col>Start</th><th scope=col>GrammyWinner</th></tr>\n",
              "\t<tr><th></th><th scope=col>&lt;chr&gt;</th><th scope=col>&lt;chr&gt;</th><th scope=col>&lt;dbl&gt;</th><th scope=col>&lt;dbl&gt;</th><th scope=col>&lt;lgl&gt;</th></tr>\n",
              "</thead>\n",
              "<tbody>\n",
              "\t<tr><th scope=row>1</th><td>Band A</td><td>Rock</td><td>2</td><td>2000</td><td>TRUE</td></tr>\n",
              "</tbody>\n",
              "</table>\n"
            ],
            "text/markdown": "\nA data.frame: 1 × 5\n\n| <!--/--> | Artist &lt;chr&gt; | Category &lt;chr&gt; | Size &lt;dbl&gt; | Start &lt;dbl&gt; | GrammyWinner &lt;lgl&gt; |\n|---|---|---|---|---|---|\n| 1 | Band A | Rock | 2 | 2000 | TRUE |\n\n",
            "text/latex": "A data.frame: 1 × 5\n\\begin{tabular}{r|lllll}\n  & Artist & Category & Size & Start & GrammyWinner\\\\\n  & <chr> & <chr> & <dbl> & <dbl> & <lgl>\\\\\n\\hline\n\t1 & Band A & Rock & 2 & 2000 & TRUE\\\\\n\\end{tabular}\n",
            "text/plain": [
              "  Artist Category Size Start GrammyWinner\n",
              "1 Band A Rock     2    2000  TRUE        "
            ]
          },
          "metadata": {}
        }
      ]
    },
    {
      "cell_type": "markdown",
      "source": [
        "## Query a Data Frame using `tidyverse` (4 pts)\n",
        "\n",
        "1. Show how to load the library.\n",
        "2. Show how to glimpse basic features of the `starwars` data table.\n",
        "3. Create a query using tidyverse that retrieves the following data:\n",
        "    - Selects only these columns: `name`, `height`, `sex`, `species`.\n",
        "    - Filters for all species that are NOT Human.\n",
        "    - Arranges the resulting data in order by name.\n",
        "\n",
        "Show your output in a data frame."
      ],
      "metadata": {
        "id": "L-xnszjS0Byy"
      }
    },
    {
      "cell_type": "code",
      "source": [
        "#\n",
        "install.packages(\"tidyverse\")\n",
        "library(tidyverse)\n",
        "\n",
        "glimpse(starwars)\n",
        "\n",
        "starwars %>%\n",
        "  select(name, height, sex, species) %>%\n",
        "  filter(species != \"Human\") %>%\n",
        "  arrange(name)"
      ],
      "metadata": {
        "id": "yTMLzrxS0F4u",
        "outputId": "a89fb8af-5763-442c-b134-dd94e01bac10",
        "colab": {
          "base_uri": "https://localhost:8080/",
          "height": 1000
        }
      },
      "execution_count": 21,
      "outputs": [
        {
          "output_type": "stream",
          "name": "stderr",
          "text": [
            "Installing package into ‘/usr/local/lib/R/site-library’\n",
            "(as ‘lib’ is unspecified)\n",
            "\n"
          ]
        },
        {
          "output_type": "stream",
          "name": "stdout",
          "text": [
            "Rows: 87\n",
            "Columns: 14\n",
            "$ name       \u001b[3m\u001b[90m<chr>\u001b[39m\u001b[23m \"Luke Skywalker\", \"C-3PO\", \"R2-D2\", \"Darth Vader\", \"Leia Or…\n",
            "$ height     \u001b[3m\u001b[90m<int>\u001b[39m\u001b[23m 172, 167, 96, 202, 150, 178, 165, 97, 183, 182, 188, 180, 2…\n",
            "$ mass       \u001b[3m\u001b[90m<dbl>\u001b[39m\u001b[23m 77.0, 75.0, 32.0, 136.0, 49.0, 120.0, 75.0, 32.0, 84.0, 77.…\n",
            "$ hair_color \u001b[3m\u001b[90m<chr>\u001b[39m\u001b[23m \"blond\", NA, NA, \"none\", \"brown\", \"brown, grey\", \"brown\", N…\n",
            "$ skin_color \u001b[3m\u001b[90m<chr>\u001b[39m\u001b[23m \"fair\", \"gold\", \"white, blue\", \"white\", \"light\", \"light\", \"…\n",
            "$ eye_color  \u001b[3m\u001b[90m<chr>\u001b[39m\u001b[23m \"blue\", \"yellow\", \"red\", \"yellow\", \"brown\", \"blue\", \"blue\",…\n",
            "$ birth_year \u001b[3m\u001b[90m<dbl>\u001b[39m\u001b[23m 19.0, 112.0, 33.0, 41.9, 19.0, 52.0, 47.0, NA, 24.0, 57.0, …\n",
            "$ sex        \u001b[3m\u001b[90m<chr>\u001b[39m\u001b[23m \"male\", \"none\", \"none\", \"male\", \"female\", \"male\", \"female\",…\n",
            "$ gender     \u001b[3m\u001b[90m<chr>\u001b[39m\u001b[23m \"masculine\", \"masculine\", \"masculine\", \"masculine\", \"femini…\n",
            "$ homeworld  \u001b[3m\u001b[90m<chr>\u001b[39m\u001b[23m \"Tatooine\", \"Tatooine\", \"Naboo\", \"Tatooine\", \"Alderaan\", \"T…\n",
            "$ species    \u001b[3m\u001b[90m<chr>\u001b[39m\u001b[23m \"Human\", \"Droid\", \"Droid\", \"Human\", \"Human\", \"Human\", \"Huma…\n",
            "$ films      \u001b[3m\u001b[90m<list>\u001b[39m\u001b[23m <\"The Empire Strikes Back\", \"Revenge of the Sith\", \"Return…\n",
            "$ vehicles   \u001b[3m\u001b[90m<list>\u001b[39m\u001b[23m <\"Snowspeeder\", \"Imperial Speeder Bike\">, <>, <>, <>, \"Imp…\n",
            "$ starships  \u001b[3m\u001b[90m<list>\u001b[39m\u001b[23m <\"X-wing\", \"Imperial shuttle\">, <>, <>, \"TIE Advanced x1\",…\n"
          ]
        },
        {
          "output_type": "display_data",
          "data": {
            "text/html": [
              "<table class=\"dataframe\">\n",
              "<caption>A tibble: 48 × 4</caption>\n",
              "<thead>\n",
              "\t<tr><th scope=col>name</th><th scope=col>height</th><th scope=col>sex</th><th scope=col>species</th></tr>\n",
              "\t<tr><th scope=col>&lt;chr&gt;</th><th scope=col>&lt;int&gt;</th><th scope=col>&lt;chr&gt;</th><th scope=col>&lt;chr&gt;</th></tr>\n",
              "</thead>\n",
              "<tbody>\n",
              "\t<tr><td>Ackbar               </td><td>180</td><td>male          </td><td>Mon Calamari  </td></tr>\n",
              "\t<tr><td>Adi Gallia           </td><td>184</td><td>female        </td><td>Tholothian    </td></tr>\n",
              "\t<tr><td>Ayla Secura          </td><td>178</td><td>female        </td><td>Twi'lek       </td></tr>\n",
              "\t<tr><td>BB8                  </td><td> NA</td><td>none          </td><td>Droid         </td></tr>\n",
              "\t<tr><td>Barriss Offee        </td><td>166</td><td>female        </td><td>Mirialan      </td></tr>\n",
              "\t<tr><td>Ben Quadinaros       </td><td>163</td><td>male          </td><td>Toong         </td></tr>\n",
              "\t<tr><td>Bib Fortuna          </td><td>180</td><td>male          </td><td>Twi'lek       </td></tr>\n",
              "\t<tr><td>Bossk                </td><td>190</td><td>male          </td><td>Trandoshan    </td></tr>\n",
              "\t<tr><td>C-3PO                </td><td>167</td><td>none          </td><td>Droid         </td></tr>\n",
              "\t<tr><td>Chewbacca            </td><td>228</td><td>male          </td><td>Wookiee       </td></tr>\n",
              "\t<tr><td>Darth Maul           </td><td>175</td><td>male          </td><td>Zabrak        </td></tr>\n",
              "\t<tr><td>Dexter Jettster      </td><td>198</td><td>male          </td><td>Besalisk      </td></tr>\n",
              "\t<tr><td>Dud Bolt             </td><td> 94</td><td>male          </td><td>Vulptereen    </td></tr>\n",
              "\t<tr><td>Eeth Koth            </td><td>171</td><td>male          </td><td>Zabrak        </td></tr>\n",
              "\t<tr><td>Gasgano              </td><td>122</td><td>male          </td><td>Xexto         </td></tr>\n",
              "\t<tr><td>Greedo               </td><td>173</td><td>male          </td><td>Rodian        </td></tr>\n",
              "\t<tr><td>Grievous             </td><td>216</td><td>male          </td><td>Kaleesh       </td></tr>\n",
              "\t<tr><td>IG-88                </td><td>200</td><td>none          </td><td>Droid         </td></tr>\n",
              "\t<tr><td>Jabba Desilijic Tiure</td><td>175</td><td>hermaphroditic</td><td>Hutt          </td></tr>\n",
              "\t<tr><td>Jar Jar Binks        </td><td>196</td><td>male          </td><td>Gungan        </td></tr>\n",
              "\t<tr><td>Ki-Adi-Mundi         </td><td>198</td><td>male          </td><td>Cerean        </td></tr>\n",
              "\t<tr><td>Kit Fisto            </td><td>196</td><td>male          </td><td>Nautolan      </td></tr>\n",
              "\t<tr><td>Lama Su              </td><td>229</td><td>male          </td><td>Kaminoan      </td></tr>\n",
              "\t<tr><td>Luminara Unduli      </td><td>170</td><td>female        </td><td>Mirialan      </td></tr>\n",
              "\t<tr><td>Mas Amedda           </td><td>196</td><td>male          </td><td>Chagrian      </td></tr>\n",
              "\t<tr><td>Nien Nunb            </td><td>160</td><td>male          </td><td>Sullustan     </td></tr>\n",
              "\t<tr><td>Nute Gunray          </td><td>191</td><td>male          </td><td>Neimodian     </td></tr>\n",
              "\t<tr><td>Plo Koon             </td><td>188</td><td>male          </td><td>Kel Dor       </td></tr>\n",
              "\t<tr><td>Poggle the Lesser    </td><td>183</td><td>male          </td><td>Geonosian     </td></tr>\n",
              "\t<tr><td>R2-D2                </td><td> 96</td><td>none          </td><td>Droid         </td></tr>\n",
              "\t<tr><td>R4-P17               </td><td> 96</td><td>none          </td><td>Droid         </td></tr>\n",
              "\t<tr><td>R5-D4                </td><td> 97</td><td>none          </td><td>Droid         </td></tr>\n",
              "\t<tr><td>Ratts Tyerell        </td><td> 79</td><td>male          </td><td>Aleena        </td></tr>\n",
              "\t<tr><td>Roos Tarpals         </td><td>224</td><td>male          </td><td>Gungan        </td></tr>\n",
              "\t<tr><td>Rugor Nass           </td><td>206</td><td>male          </td><td>Gungan        </td></tr>\n",
              "\t<tr><td>Saesee Tiin          </td><td>188</td><td>male          </td><td>Iktotchi      </td></tr>\n",
              "\t<tr><td>San Hill             </td><td>191</td><td>male          </td><td>Muun          </td></tr>\n",
              "\t<tr><td>Sebulba              </td><td>112</td><td>male          </td><td>Dug           </td></tr>\n",
              "\t<tr><td>Shaak Ti             </td><td>178</td><td>female        </td><td>Togruta       </td></tr>\n",
              "\t<tr><td>Tarfful              </td><td>234</td><td>male          </td><td>Wookiee       </td></tr>\n",
              "\t<tr><td>Taun We              </td><td>213</td><td>female        </td><td>Kaminoan      </td></tr>\n",
              "\t<tr><td>Tion Medon           </td><td>206</td><td>male          </td><td>Pau'an        </td></tr>\n",
              "\t<tr><td>Wat Tambor           </td><td>193</td><td>male          </td><td>Skakoan       </td></tr>\n",
              "\t<tr><td>Watto                </td><td>137</td><td>male          </td><td>Toydarian     </td></tr>\n",
              "\t<tr><td>Wicket Systri Warrick</td><td> 88</td><td>male          </td><td>Ewok          </td></tr>\n",
              "\t<tr><td>Yarael Poof          </td><td>264</td><td>male          </td><td>Quermian      </td></tr>\n",
              "\t<tr><td>Yoda                 </td><td> 66</td><td>male          </td><td>Yoda's species</td></tr>\n",
              "\t<tr><td>Zam Wesell           </td><td>168</td><td>female        </td><td>Clawdite      </td></tr>\n",
              "</tbody>\n",
              "</table>\n"
            ],
            "text/markdown": "\nA tibble: 48 × 4\n\n| name &lt;chr&gt; | height &lt;int&gt; | sex &lt;chr&gt; | species &lt;chr&gt; |\n|---|---|---|---|\n| Ackbar                | 180 | male           | Mon Calamari   |\n| Adi Gallia            | 184 | female         | Tholothian     |\n| Ayla Secura           | 178 | female         | Twi'lek        |\n| BB8                   |  NA | none           | Droid          |\n| Barriss Offee         | 166 | female         | Mirialan       |\n| Ben Quadinaros        | 163 | male           | Toong          |\n| Bib Fortuna           | 180 | male           | Twi'lek        |\n| Bossk                 | 190 | male           | Trandoshan     |\n| C-3PO                 | 167 | none           | Droid          |\n| Chewbacca             | 228 | male           | Wookiee        |\n| Darth Maul            | 175 | male           | Zabrak         |\n| Dexter Jettster       | 198 | male           | Besalisk       |\n| Dud Bolt              |  94 | male           | Vulptereen     |\n| Eeth Koth             | 171 | male           | Zabrak         |\n| Gasgano               | 122 | male           | Xexto          |\n| Greedo                | 173 | male           | Rodian         |\n| Grievous              | 216 | male           | Kaleesh        |\n| IG-88                 | 200 | none           | Droid          |\n| Jabba Desilijic Tiure | 175 | hermaphroditic | Hutt           |\n| Jar Jar Binks         | 196 | male           | Gungan         |\n| Ki-Adi-Mundi          | 198 | male           | Cerean         |\n| Kit Fisto             | 196 | male           | Nautolan       |\n| Lama Su               | 229 | male           | Kaminoan       |\n| Luminara Unduli       | 170 | female         | Mirialan       |\n| Mas Amedda            | 196 | male           | Chagrian       |\n| Nien Nunb             | 160 | male           | Sullustan      |\n| Nute Gunray           | 191 | male           | Neimodian      |\n| Plo Koon              | 188 | male           | Kel Dor        |\n| Poggle the Lesser     | 183 | male           | Geonosian      |\n| R2-D2                 |  96 | none           | Droid          |\n| R4-P17                |  96 | none           | Droid          |\n| R5-D4                 |  97 | none           | Droid          |\n| Ratts Tyerell         |  79 | male           | Aleena         |\n| Roos Tarpals          | 224 | male           | Gungan         |\n| Rugor Nass            | 206 | male           | Gungan         |\n| Saesee Tiin           | 188 | male           | Iktotchi       |\n| San Hill              | 191 | male           | Muun           |\n| Sebulba               | 112 | male           | Dug            |\n| Shaak Ti              | 178 | female         | Togruta        |\n| Tarfful               | 234 | male           | Wookiee        |\n| Taun We               | 213 | female         | Kaminoan       |\n| Tion Medon            | 206 | male           | Pau'an         |\n| Wat Tambor            | 193 | male           | Skakoan        |\n| Watto                 | 137 | male           | Toydarian      |\n| Wicket Systri Warrick |  88 | male           | Ewok           |\n| Yarael Poof           | 264 | male           | Quermian       |\n| Yoda                  |  66 | male           | Yoda's species |\n| Zam Wesell            | 168 | female         | Clawdite       |\n\n",
            "text/latex": "A tibble: 48 × 4\n\\begin{tabular}{llll}\n name & height & sex & species\\\\\n <chr> & <int> & <chr> & <chr>\\\\\n\\hline\n\t Ackbar                & 180 & male           & Mon Calamari  \\\\\n\t Adi Gallia            & 184 & female         & Tholothian    \\\\\n\t Ayla Secura           & 178 & female         & Twi'lek       \\\\\n\t BB8                   &  NA & none           & Droid         \\\\\n\t Barriss Offee         & 166 & female         & Mirialan      \\\\\n\t Ben Quadinaros        & 163 & male           & Toong         \\\\\n\t Bib Fortuna           & 180 & male           & Twi'lek       \\\\\n\t Bossk                 & 190 & male           & Trandoshan    \\\\\n\t C-3PO                 & 167 & none           & Droid         \\\\\n\t Chewbacca             & 228 & male           & Wookiee       \\\\\n\t Darth Maul            & 175 & male           & Zabrak        \\\\\n\t Dexter Jettster       & 198 & male           & Besalisk      \\\\\n\t Dud Bolt              &  94 & male           & Vulptereen    \\\\\n\t Eeth Koth             & 171 & male           & Zabrak        \\\\\n\t Gasgano               & 122 & male           & Xexto         \\\\\n\t Greedo                & 173 & male           & Rodian        \\\\\n\t Grievous              & 216 & male           & Kaleesh       \\\\\n\t IG-88                 & 200 & none           & Droid         \\\\\n\t Jabba Desilijic Tiure & 175 & hermaphroditic & Hutt          \\\\\n\t Jar Jar Binks         & 196 & male           & Gungan        \\\\\n\t Ki-Adi-Mundi          & 198 & male           & Cerean        \\\\\n\t Kit Fisto             & 196 & male           & Nautolan      \\\\\n\t Lama Su               & 229 & male           & Kaminoan      \\\\\n\t Luminara Unduli       & 170 & female         & Mirialan      \\\\\n\t Mas Amedda            & 196 & male           & Chagrian      \\\\\n\t Nien Nunb             & 160 & male           & Sullustan     \\\\\n\t Nute Gunray           & 191 & male           & Neimodian     \\\\\n\t Plo Koon              & 188 & male           & Kel Dor       \\\\\n\t Poggle the Lesser     & 183 & male           & Geonosian     \\\\\n\t R2-D2                 &  96 & none           & Droid         \\\\\n\t R4-P17                &  96 & none           & Droid         \\\\\n\t R5-D4                 &  97 & none           & Droid         \\\\\n\t Ratts Tyerell         &  79 & male           & Aleena        \\\\\n\t Roos Tarpals          & 224 & male           & Gungan        \\\\\n\t Rugor Nass            & 206 & male           & Gungan        \\\\\n\t Saesee Tiin           & 188 & male           & Iktotchi      \\\\\n\t San Hill              & 191 & male           & Muun          \\\\\n\t Sebulba               & 112 & male           & Dug           \\\\\n\t Shaak Ti              & 178 & female         & Togruta       \\\\\n\t Tarfful               & 234 & male           & Wookiee       \\\\\n\t Taun We               & 213 & female         & Kaminoan      \\\\\n\t Tion Medon            & 206 & male           & Pau'an        \\\\\n\t Wat Tambor            & 193 & male           & Skakoan       \\\\\n\t Watto                 & 137 & male           & Toydarian     \\\\\n\t Wicket Systri Warrick &  88 & male           & Ewok          \\\\\n\t Yarael Poof           & 264 & male           & Quermian      \\\\\n\t Yoda                  &  66 & male           & Yoda's species\\\\\n\t Zam Wesell            & 168 & female         & Clawdite      \\\\\n\\end{tabular}\n",
            "text/plain": [
              "   name                  height sex            species       \n",
              "1  Ackbar                180    male           Mon Calamari  \n",
              "2  Adi Gallia            184    female         Tholothian    \n",
              "3  Ayla Secura           178    female         Twi'lek       \n",
              "4  BB8                    NA    none           Droid         \n",
              "5  Barriss Offee         166    female         Mirialan      \n",
              "6  Ben Quadinaros        163    male           Toong         \n",
              "7  Bib Fortuna           180    male           Twi'lek       \n",
              "8  Bossk                 190    male           Trandoshan    \n",
              "9  C-3PO                 167    none           Droid         \n",
              "10 Chewbacca             228    male           Wookiee       \n",
              "11 Darth Maul            175    male           Zabrak        \n",
              "12 Dexter Jettster       198    male           Besalisk      \n",
              "13 Dud Bolt               94    male           Vulptereen    \n",
              "14 Eeth Koth             171    male           Zabrak        \n",
              "15 Gasgano               122    male           Xexto         \n",
              "16 Greedo                173    male           Rodian        \n",
              "17 Grievous              216    male           Kaleesh       \n",
              "18 IG-88                 200    none           Droid         \n",
              "19 Jabba Desilijic Tiure 175    hermaphroditic Hutt          \n",
              "20 Jar Jar Binks         196    male           Gungan        \n",
              "21 Ki-Adi-Mundi          198    male           Cerean        \n",
              "22 Kit Fisto             196    male           Nautolan      \n",
              "23 Lama Su               229    male           Kaminoan      \n",
              "24 Luminara Unduli       170    female         Mirialan      \n",
              "25 Mas Amedda            196    male           Chagrian      \n",
              "26 Nien Nunb             160    male           Sullustan     \n",
              "27 Nute Gunray           191    male           Neimodian     \n",
              "28 Plo Koon              188    male           Kel Dor       \n",
              "29 Poggle the Lesser     183    male           Geonosian     \n",
              "30 R2-D2                  96    none           Droid         \n",
              "31 R4-P17                 96    none           Droid         \n",
              "32 R5-D4                  97    none           Droid         \n",
              "33 Ratts Tyerell          79    male           Aleena        \n",
              "34 Roos Tarpals          224    male           Gungan        \n",
              "35 Rugor Nass            206    male           Gungan        \n",
              "36 Saesee Tiin           188    male           Iktotchi      \n",
              "37 San Hill              191    male           Muun          \n",
              "38 Sebulba               112    male           Dug           \n",
              "39 Shaak Ti              178    female         Togruta       \n",
              "40 Tarfful               234    male           Wookiee       \n",
              "41 Taun We               213    female         Kaminoan      \n",
              "42 Tion Medon            206    male           Pau'an        \n",
              "43 Wat Tambor            193    male           Skakoan       \n",
              "44 Watto                 137    male           Toydarian     \n",
              "45 Wicket Systri Warrick  88    male           Ewok          \n",
              "46 Yarael Poof           264    male           Quermian      \n",
              "47 Yoda                   66    male           Yoda's species\n",
              "48 Zam Wesell            168    female         Clawdite      "
            ]
          },
          "metadata": {}
        }
      ]
    }
  ]
}