{
  "nbformat": 4,
  "nbformat_minor": 0,
  "metadata": {
    "colab": {
      "provenance": [],
      "include_colab_link": true
    },
    "kernelspec": {
      "name": "python3",
      "display_name": "Python 3"
    },
    "language_info": {
      "name": "python"
    }
  },
  "cells": [
    {
      "cell_type": "markdown",
      "metadata": {
        "id": "view-in-github",
        "colab_type": "text"
      },
      "source": [
        "<a href=\"https://colab.research.google.com/github/jmh8fr/ds1002-jmh8fr/blob/main/homework/week-5.ipynb\" target=\"_parent\"><img src=\"https://colab.research.google.com/assets/colab-badge.svg\" alt=\"Open In Colab\"/></a>"
      ]
    },
    {
      "cell_type": "markdown",
      "source": [
        "# Homework - Week 5\n",
        "\n",
        "Complete the following blocks as specified in the directions. Run each cell to return the desired output. Save your notebook back to your GitHub repository and submit the GitHub URL for your notebook for review."
      ],
      "metadata": {
        "id": "xJ6ZWHKXW4qY"
      }
    },
    {
      "cell_type": "markdown",
      "source": [
        "## 1. NumPy\n",
        "\n",
        "You have three Python lists (below). Put them into a single NumPy `ndarray` as a 2-dimensional array (with 6 columns and 3 rows). Using the 6 columns in each list, add each column's values and print out the added values. Demonstrate everything required to code such an operation in the code block below.\n",
        "\n",
        "```python\n",
        "val1 = [12,14,16,18,20,22]\n",
        "val2 = [5,10,15,20,25,30]\n",
        "val3 = [5,7,9,11,13,15]\n",
        "```"
      ],
      "metadata": {
        "id": "atxtPF2-XXiW"
      }
    },
    {
      "cell_type": "code",
      "execution_count": 3,
      "metadata": {
        "id": "mdX0VBQgW1-9"
      },
      "outputs": [],
      "source": [
        "# Set up numpy and create an array from the 3 lists above. Don't just copy and\n",
        "# paste the values into a new array by hand, use the three variables to create it.\n",
        "import numpy as np\n",
        "va11 = [12,14,16,18,20,22]\n",
        "va12 = [5,10,15,20,25,30]\n",
        "va13 = [5,7,9,11,13,15]\n",
        "arr1 = np.array([va11, va12, va13])"
      ]
    },
    {
      "cell_type": "code",
      "source": [
        "# Now format a SINGLE command that displays the first and second lines of the ndarray you just made.\n",
        "print(arr1[:2])"
      ],
      "metadata": {
        "id": "OqufZNzyjfPe",
        "colab": {
          "base_uri": "https://localhost:8080/"
        },
        "outputId": "256b76ba-3640-4d50-e2d0-4ad86d04bd70"
      },
      "execution_count": 25,
      "outputs": [
        {
          "output_type": "stream",
          "name": "stdout",
          "text": [
            "[[12 14 16 18 20 22]\n",
            " [ 5 10 15 20 25 30]]\n"
          ]
        }
      ]
    },
    {
      "cell_type": "code",
      "source": [
        "# Format a command that slices the ndarray, giving only the first 3 columns of the first 2 rows.\n",
        "# Display those values back in your code.\n",
        "va11 = [12,14,16,18,20,22]\n",
        "va12 = [5,10,15,20,25,30]\n",
        "va13 = [5,7,9,11,13,15]\n",
        "answer = arr1[:2, :3]\n",
        "print(answer)"
      ],
      "metadata": {
        "id": "J72swip9j2fN",
        "colab": {
          "base_uri": "https://localhost:8080/"
        },
        "outputId": "51a985bc-e354-43f0-a3f1-fb4b1b4314e8"
      },
      "execution_count": 7,
      "outputs": [
        {
          "output_type": "stream",
          "name": "stdout",
          "text": [
            "[[12 14 16]\n",
            " [ 5 10 15]]\n"
          ]
        }
      ]
    },
    {
      "cell_type": "code",
      "source": [
        "# Finally, using the ndarray object you created above, use the .T method with it.\n",
        "# For example, if your ndarray was named \"myarray\" then issue this command:\n",
        "#\n",
        "#  myarray.T\n",
        "#\n",
        "arr1 = arr1.T\n",
        "print(arr1)\n",
        "# What does that command do to the ndarray? Write your answer in the text block below."
      ],
      "metadata": {
        "id": "6cclXhoTlcZa",
        "colab": {
          "base_uri": "https://localhost:8080/"
        },
        "outputId": "eef25bcd-2108-4218-c375-a5c8fcb2ebe1"
      },
      "execution_count": 17,
      "outputs": [
        {
          "output_type": "stream",
          "name": "stdout",
          "text": [
            "[[12  5  5]\n",
            " [14 10  7]\n",
            " [16 15  9]\n",
            " [18 20 11]\n",
            " [20 25 13]\n",
            " [22 30 15]]\n"
          ]
        }
      ]
    },
    {
      "cell_type": "markdown",
      "source": [
        "*Answer* here.\n",
        "The .T command transposes a numpy array. In other words, it flips its rows and columns."
      ],
      "metadata": {
        "id": "18ox3zDWlxo5"
      }
    },
    {
      "cell_type": "markdown",
      "source": [
        "# 2. Pandas\n",
        "\n",
        "In class we created a DataFrame using the `read_csv` method. Another way to create a df is by hand, using Python lists. Below shows you how to do that, using a list of columns, a list of indexes, and a list of actual data for each record.\n",
        "\n",
        "```python\n",
        "df = pd.DataFrame(\n",
        "    columns=['x','y','z'],\n",
        "    index=['row1','row2','row3'],\n",
        "    data=[[9,3,7],[1,2,4],[4,6,8]])\n",
        "```"
      ],
      "metadata": {
        "id": "2xOjrZ-Rg28_"
      }
    },
    {
      "cell_type": "code",
      "source": [
        "# Set up pandas and create the dataframe above. Then continue to work with the dataframe in the questions below.\n",
        "import pandas as pd\n",
        "import matplotlib.pyplot as plt\n",
        "\n",
        "%matplotlib inline\n",
        "\n",
        "df = pd.DataFrame(\n",
        "    columns=['x','y','z'],\n",
        "    index=['row1','row2','row3'],\n",
        "    data=[[9,3,7],[1,2,4],[4,6,8]])"
      ],
      "metadata": {
        "id": "--XDmwVsbMC0"
      },
      "execution_count": 27,
      "outputs": []
    },
    {
      "cell_type": "code",
      "source": [
        "# Format a command that displays the entire DataFrame.\n",
        "print(df)"
      ],
      "metadata": {
        "id": "BOEWyifRiA-W",
        "colab": {
          "base_uri": "https://localhost:8080/"
        },
        "outputId": "c9188e71-395f-479b-97f5-d37ca0bb8c0f"
      },
      "execution_count": 28,
      "outputs": [
        {
          "output_type": "stream",
          "name": "stdout",
          "text": [
            "      x  y  z\n",
            "row1  9  3  7\n",
            "row2  1  2  4\n",
            "row3  4  6  8\n"
          ]
        }
      ]
    },
    {
      "cell_type": "code",
      "source": [
        "# Format a command that selects and returns only the SECOND row of data from the df.\n",
        "second_command = df.loc['row2']\n",
        "print(second_command)"
      ],
      "metadata": {
        "id": "RxqOYSNXiJ5U",
        "colab": {
          "base_uri": "https://localhost:8080/"
        },
        "outputId": "46eeb85e-1799-4c14-d799-93edeec4e5e0"
      },
      "execution_count": 30,
      "outputs": [
        {
          "output_type": "stream",
          "name": "stdout",
          "text": [
            "x    1\n",
            "y    2\n",
            "z    4\n",
            "Name: row2, dtype: int64\n"
          ]
        }
      ]
    },
    {
      "cell_type": "code",
      "source": [
        "# Format a command that selects and returns only the `y` column of data from the df.\n",
        "y_column = df['y']\n",
        "print(y_column)"
      ],
      "metadata": {
        "id": "Ca0bVgd2jEBV",
        "colab": {
          "base_uri": "https://localhost:8080/"
        },
        "outputId": "80691556-ba90-4525-d236-73494a932d2b"
      },
      "execution_count": 31,
      "outputs": [
        {
          "output_type": "stream",
          "name": "stdout",
          "text": [
            "row1    3\n",
            "row2    2\n",
            "row3    6\n",
            "Name: y, dtype: int64\n"
          ]
        }
      ]
    },
    {
      "cell_type": "code",
      "source": [
        "# Format a command that displays the data types present in this DataFrame.\n",
        "print(df.dtypes)"
      ],
      "metadata": {
        "id": "VzMEHBPRiZfH",
        "colab": {
          "base_uri": "https://localhost:8080/"
        },
        "outputId": "48b7cb35-c878-41e2-d470-52178ec69487"
      },
      "execution_count": 34,
      "outputs": [
        {
          "output_type": "stream",
          "name": "stdout",
          "text": [
            "x    int64\n",
            "y    int64\n",
            "z    int64\n",
            "dtype: object\n"
          ]
        }
      ]
    },
    {
      "cell_type": "code",
      "source": [
        "# Finally, using the DataFrame object you created above, use the .T method with it.\n",
        "# For example, if your df was named \"mydf\" then issue this command:\n",
        "#\n",
        "#  mydf.T\n",
        "flipped_dataframe = df.T\n",
        "print(flipped_dataframe)\n",
        "# What does that command do to the DataFrame? Write your answer in the text block below."
      ],
      "metadata": {
        "id": "kOuxKUktlzrY",
        "colab": {
          "base_uri": "https://localhost:8080/"
        },
        "outputId": "df037896-a850-4ad1-ba19-22290784b340"
      },
      "execution_count": 35,
      "outputs": [
        {
          "output_type": "stream",
          "name": "stdout",
          "text": [
            "   row1  row2  row3\n",
            "x     9     1     4\n",
            "y     3     2     6\n",
            "z     7     4     8\n"
          ]
        }
      ]
    },
    {
      "cell_type": "markdown",
      "source": [
        "Answer here. The .T command swaps the rows and columns of a dataframe and converts rows into columns and columns into rows"
      ],
      "metadata": {
        "id": "X7KW5F-Al7oX"
      }
    }
  ]
}