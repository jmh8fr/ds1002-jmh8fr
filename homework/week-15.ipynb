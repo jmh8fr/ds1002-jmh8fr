{
  "nbformat": 4,
  "nbformat_minor": 0,
  "metadata": {
    "colab": {
      "provenance": [],
      "include_colab_link": true
    },
    "kernelspec": {
      "name": "ir",
      "display_name": "R"
    },
    "language_info": {
      "name": "R"
    }
  },
  "cells": [
    {
      "cell_type": "markdown",
      "metadata": {
        "id": "view-in-github",
        "colab_type": "text"
      },
      "source": [
        "<a href=\"https://colab.research.google.com/github/jmh8fr/ds1002-jmh8fr/blob/main/homework/week-15.ipynb\" target=\"_parent\"><img src=\"https://colab.research.google.com/assets/colab-badge.svg\" alt=\"Open In Colab\"/></a>"
      ]
    },
    {
      "cell_type": "markdown",
      "source": [
        "# Homework - Week 15\n",
        "\n",
        "Complete the following blocks as specified in the directions. Run each cell to return the desired output. Save your notebook back to your GitHub repository and submit the GitHub URL to your notebook for review."
      ],
      "metadata": {
        "id": "sZruw3XQogej"
      }
    },
    {
      "cell_type": "markdown",
      "source": [
        "## 1. Create Functions (4 pts)\n",
        "\n",
        "Create two functions in the cells below, according to the prompts given."
      ],
      "metadata": {
        "id": "lkaofBQypx1X"
      }
    },
    {
      "cell_type": "code",
      "source": [
        "# create a function in R that:\n",
        "#   1. takes a single integer as an input parameter\n",
        "#   2. determines whether the integer is even or odd\n",
        "#   3. returns a character statement \"The integer <x> is even\" or \"The integer <x> is odd\" (replace <x> with the actual input provided)\n",
        "#\n",
        "\n",
        "even_or_odd <- function(x) {\n",
        "  if (x %% 2 == 0) {\n",
        "    return(paste(\"The Integer\", x, \"is even\"))\n",
        "  } else {\n",
        "    return(paste(\"The Integer\", x, \"is odd\"))\n",
        "  }\n",
        "}\n",
        "\n",
        "\n",
        "# then execute the function twice using two different input values, displaying even and odd results.\n",
        "print(even_or_odd(6))\n",
        "\n",
        "print(even_or_odd(7))"
      ],
      "metadata": {
        "id": "1fjq5bkEp6Zv",
        "outputId": "437afdc6-5c09-4118-ee8a-d748c98f7193",
        "colab": {
          "base_uri": "https://localhost:8080/"
        }
      },
      "execution_count": 5,
      "outputs": [
        {
          "output_type": "stream",
          "name": "stdout",
          "text": [
            "[1] \"The Integer 6 is even\"\n",
            "[1] \"The Integer 7 is odd\"\n"
          ]
        }
      ]
    },
    {
      "cell_type": "code",
      "source": [
        "# create a function in R that:\n",
        "#   1. takes 4 integer input parameters\n",
        "#   2. returns the mean value of the inputs\n",
        "#   3. has default values for the 4 input parameters, in case they are not provided when the function is called.\n",
        "#\n",
        "mean_calculator <- function(a = 3, b = 9, c = 12, d = 16) {\n",
        "  mean_of_values <- mean(c(a, b, c, d))\n",
        "  return(mean_of_values)\n",
        "}\n",
        "# then execute the function twice: once where you provide the input values, and once where you do not.\n",
        "print(mean_calculator(10, 20, 30, 40))\n",
        "print(mean_calculator())\n"
      ],
      "metadata": {
        "id": "f3IFD-T6p6Rd",
        "outputId": "da04ffb2-1b77-486d-f7fc-ca7d53a0e67f",
        "colab": {
          "base_uri": "https://localhost:8080/"
        }
      },
      "execution_count": 25,
      "outputs": [
        {
          "output_type": "stream",
          "name": "stdout",
          "text": [
            "[1] 25\n",
            "[1] 10\n"
          ]
        }
      ]
    },
    {
      "cell_type": "markdown",
      "source": [
        "## 2. Plot Data (4 pts)"
      ],
      "metadata": {
        "id": "F6Rx0GIGrpOB"
      }
    },
    {
      "cell_type": "markdown",
      "source": [
        "In the cell below, write the code required to plot from the `msleep` sample data set.\n",
        "\n",
        "1. Display only animals with body weights of 30 or greater.\n",
        "2. Group the animals by `order`.\n",
        "3. Display the mean `sleep_total` for each group in a bar plot."
      ],
      "metadata": {
        "id": "IDLyOjOJsFCX"
      }
    },
    {
      "cell_type": "code",
      "source": [
        "#\n",
        "library(ggplot2)\n",
        "\n",
        "data_filter <- subset(msleep, bodywt >= 30)\n",
        "\n",
        "data_group <- aggregate(sleep_total ~ order, data = data_filter, FUN = mean)\n",
        "\n",
        "ggplot(data_group, aes(x = order, y = sleep_total)) +\n",
        "  geom_bar(stat = \"identity\") +\n",
        "  theme(axis.text.x = element_text(angle = 90, hjust = 1)) +\n",
        "  labs(title = \"Average Total Sleep of Animals\", x = \"Order\", y = \"Mean Total Sleep (hours)\")"
      ],
      "metadata": {
        "id": "0D5Ia-BPsoPZ",
        "outputId": "e0f385d8-b90c-42da-fbe3-59d23cc58602",
        "colab": {
          "base_uri": "https://localhost:8080/",
          "height": 437
        }
      },
      "execution_count": 26,
      "outputs": [
        {
          "output_type": "display_data",
          "data": {
            "text/plain": [
              "plot without title"
            ],
            "image/png": "[encoded data removed]"
          },
          "metadata": {
            "image/png": {
              "width": 420,
              "height": 420
            }
          }
        }
      ]
    },
    {
      "cell_type": "markdown",
      "source": [
        "## 3. Clean and Analyze Data Using R (4 pts)\n",
        "\n",
        "In the cells below use R to perform the following data cleaning steps on this file:\n",
        "https://raw.githubusercontent.com/nmagee/ds1002/main/data/social-media-users.csv\n",
        "\n",
        "1. Remove any duplicate rows.\n",
        "2. Remove any records where `last_login` or `birthdate` are empty.\n",
        "3. Display only the records with the 10 highest `follower` counts.\n",
        "4. Determine counts of users when grouped by continent."
      ],
      "metadata": {
        "id": "-2ZaFcCCv3o8"
      }
    },
    {
      "cell_type": "code",
      "source": [
        "#\n",
        "install.packages(\"readr\")\n",
        "library(readr)\n",
        "install.packages(\"dplyr\")\n",
        "library(dplyr)\n",
        "\n",
        "url <- \"https://raw.githubusercontent.com/nmagee/ds1002/main/data/social-media-users.csv\"\n",
        "data <- read_csv(url)\n",
        "\n",
        "data_clean <- distinct(data)\n",
        "head(data_clean)"
      ],
      "metadata": {
        "id": "V4nBsdVsyauQ",
        "outputId": "c4752ed1-84a7-4539-9330-b19a3533e9c2",
        "colab": {
          "base_uri": "https://localhost:8080/",
          "height": 536
        }
      },
      "execution_count": 37,
      "outputs": [
        {
          "output_type": "stream",
          "name": "stderr",
          "text": [
            "Installing package into ‘/usr/local/lib/R/site-library’\n",
            "(as ‘lib’ is unspecified)\n",
            "\n",
            "Installing package into ‘/usr/local/lib/R/site-library’\n",
            "(as ‘lib’ is unspecified)\n",
            "\n",
            "\u001b[1mRows: \u001b[22m\u001b[34m1318\u001b[39m \u001b[1mColumns: \u001b[22m\u001b[34m8\u001b[39m\n",
            "\u001b[36m──\u001b[39m \u001b[1mColumn specification\u001b[22m \u001b[36m────────────────────────────────────────────────────────\u001b[39m\n",
            "\u001b[1mDelimiter:\u001b[22m \",\"\n",
            "\u001b[31mchr\u001b[39m (7): username, full_name, birthdate, email, continent, last_login, inter...\n",
            "\u001b[32mdbl\u001b[39m (1): followers\n",
            "\n",
            "\u001b[36mℹ\u001b[39m Use `spec()` to retrieve the full column specification for this data.\n",
            "\u001b[36mℹ\u001b[39m Specify the column types or set `show_col_types = FALSE` to quiet this message.\n"
          ]
        },
        {
          "output_type": "display_data",
          "data": {
            "text/html": [
              "<table class=\"dataframe\">\n",
              "<caption>A tibble: 6 × 8</caption>\n",
              "<thead>\n",
              "\t<tr><th scope=col>username</th><th scope=col>full_name</th><th scope=col>birthdate</th><th scope=col>email</th><th scope=col>continent</th><th scope=col>followers</th><th scope=col>last_login</th><th scope=col>interests</th></tr>\n",
              "\t<tr><th scope=col>&lt;chr&gt;</th><th scope=col>&lt;chr&gt;</th><th scope=col>&lt;chr&gt;</th><th scope=col>&lt;chr&gt;</th><th scope=col>&lt;chr&gt;</th><th scope=col>&lt;dbl&gt;</th><th scope=col>&lt;chr&gt;</th><th scope=col>&lt;chr&gt;</th></tr>\n",
              "</thead>\n",
              "<tbody>\n",
              "\t<tr><td>ckippen0   </td><td>Clevey Kippen   </td><td>5/1/1991  </td><td>ckippen0@t-online.de  </td><td>NA</td><td>12362</td><td>5/16/2023 </td><td>music </td></tr>\n",
              "\t<tr><td>tgergler1  </td><td>Tedi Gergler    </td><td>10/5/1998 </td><td>tgergler1@salon.com   </td><td>NA</td><td>21360</td><td>8/20/2020 </td><td>sports</td></tr>\n",
              "\t<tr><td>spomfrett2 </td><td>Steffie Pomfrett</td><td>NA        </td><td>spomfrett2@imdb.com   </td><td>NA</td><td>19530</td><td>11/19/2022</td><td>sports</td></tr>\n",
              "\t<tr><td>rphettis3  </td><td>Ruddy Phettis   </td><td>6/18/1984 </td><td>rphettis3@npr.org     </td><td>EU</td><td>80047</td><td>9/20/2023 </td><td>travel</td></tr>\n",
              "\t<tr><td>ngilcriest4</td><td>Nico Gilcriest  </td><td>10/11/1993</td><td>ngilcriest4@dyndns.org</td><td>NA</td><td>33544</td><td>NA        </td><td>music </td></tr>\n",
              "\t<tr><td>fhampson5  </td><td>Farrell Hampson </td><td>11/7/1985 </td><td>fhampson5@lulu.com    </td><td>OC</td><td>72161</td><td>NA        </td><td>sports</td></tr>\n",
              "</tbody>\n",
              "</table>\n"
            ],
            "text/markdown": "\nA tibble: 6 × 8\n\n| username &lt;chr&gt; | full_name &lt;chr&gt; | birthdate &lt;chr&gt; | email &lt;chr&gt; | continent &lt;chr&gt; | followers &lt;dbl&gt; | last_login &lt;chr&gt; | interests &lt;chr&gt; |\n|---|---|---|---|---|---|---|---|\n| ckippen0    | Clevey Kippen    | 5/1/1991   | ckippen0@t-online.de   | NA | 12362 | 5/16/2023  | music  |\n| tgergler1   | Tedi Gergler     | 10/5/1998  | tgergler1@salon.com    | NA | 21360 | 8/20/2020  | sports |\n| spomfrett2  | Steffie Pomfrett | NA         | spomfrett2@imdb.com    | NA | 19530 | 11/19/2022 | sports |\n| rphettis3   | Ruddy Phettis    | 6/18/1984  | rphettis3@npr.org      | EU | 80047 | 9/20/2023  | travel |\n| ngilcriest4 | Nico Gilcriest   | 10/11/1993 | ngilcriest4@dyndns.org | NA | 33544 | NA         | music  |\n| fhampson5   | Farrell Hampson  | 11/7/1985  | fhampson5@lulu.com     | OC | 72161 | NA         | sports |\n\n",
            "text/latex": "A tibble: 6 × 8\n\\begin{tabular}{llllllll}\n username & full\\_name & birthdate & email & continent & followers & last\\_login & interests\\\\\n <chr> & <chr> & <chr> & <chr> & <chr> & <dbl> & <chr> & <chr>\\\\\n\\hline\n\t ckippen0    & Clevey Kippen    & 5/1/1991   & ckippen0@t-online.de   & NA & 12362 & 5/16/2023  & music \\\\\n\t tgergler1   & Tedi Gergler     & 10/5/1998  & tgergler1@salon.com    & NA & 21360 & 8/20/2020  & sports\\\\\n\t spomfrett2  & Steffie Pomfrett & NA         & spomfrett2@imdb.com    & NA & 19530 & 11/19/2022 & sports\\\\\n\t rphettis3   & Ruddy Phettis    & 6/18/1984  & rphettis3@npr.org      & EU & 80047 & 9/20/2023  & travel\\\\\n\t ngilcriest4 & Nico Gilcriest   & 10/11/1993 & ngilcriest4@dyndns.org & NA & 33544 & NA         & music \\\\\n\t fhampson5   & Farrell Hampson  & 11/7/1985  & fhampson5@lulu.com     & OC & 72161 & NA         & sports\\\\\n\\end{tabular}\n",
            "text/plain": [
              "  username    full_name        birthdate  email                  continent\n",
              "1 ckippen0    Clevey Kippen    5/1/1991   ckippen0@t-online.de   NA       \n",
              "2 tgergler1   Tedi Gergler     10/5/1998  tgergler1@salon.com    NA       \n",
              "3 spomfrett2  Steffie Pomfrett NA         spomfrett2@imdb.com    NA       \n",
              "4 rphettis3   Ruddy Phettis    6/18/1984  rphettis3@npr.org      EU       \n",
              "5 ngilcriest4 Nico Gilcriest   10/11/1993 ngilcriest4@dyndns.org NA       \n",
              "6 fhampson5   Farrell Hampson  11/7/1985  fhampson5@lulu.com     OC       \n",
              "  followers last_login interests\n",
              "1 12362     5/16/2023  music    \n",
              "2 21360     8/20/2020  sports   \n",
              "3 19530     11/19/2022 sports   \n",
              "4 80047     9/20/2023  travel   \n",
              "5 33544     NA         music    \n",
              "6 72161     NA         sports   "
            ]
          },
          "metadata": {}
        }
      ]
    },
    {
      "cell_type": "code",
      "source": [
        "#\n",
        "install.packages(\"tidyverse\")\n",
        "library(tidyverse)\n",
        "\n",
        "filtered_data <- data %>%\n",
        "  filter(!is.na(last_login) & last_login != \"\", !is.na(birthdate) & birthdate != \"\")\n",
        "\n",
        "head(filtered_data)"
      ],
      "metadata": {
        "id": "LwXD1sNulIT3",
        "outputId": "30583410-c177-4aad-8c42-94a9a5e28497",
        "colab": {
          "base_uri": "https://localhost:8080/",
          "height": 340
        }
      },
      "execution_count": 38,
      "outputs": [
        {
          "output_type": "stream",
          "name": "stderr",
          "text": [
            "Installing package into ‘/usr/local/lib/R/site-library’\n",
            "(as ‘lib’ is unspecified)\n",
            "\n"
          ]
        },
        {
          "output_type": "display_data",
          "data": {
            "text/html": [
              "<table class=\"dataframe\">\n",
              "<caption>A tibble: 6 × 8</caption>\n",
              "<thead>\n",
              "\t<tr><th scope=col>username</th><th scope=col>full_name</th><th scope=col>birthdate</th><th scope=col>email</th><th scope=col>continent</th><th scope=col>followers</th><th scope=col>last_login</th><th scope=col>interests</th></tr>\n",
              "\t<tr><th scope=col>&lt;chr&gt;</th><th scope=col>&lt;chr&gt;</th><th scope=col>&lt;chr&gt;</th><th scope=col>&lt;chr&gt;</th><th scope=col>&lt;chr&gt;</th><th scope=col>&lt;dbl&gt;</th><th scope=col>&lt;chr&gt;</th><th scope=col>&lt;chr&gt;</th></tr>\n",
              "</thead>\n",
              "<tbody>\n",
              "\t<tr><td>ckippen0   </td><td>Clevey Kippen    </td><td>5/1/1991 </td><td>ckippen0@t-online.de     </td><td>NA</td><td>12362</td><td>5/16/2023</td><td>music </td></tr>\n",
              "\t<tr><td>tgergler1  </td><td>Tedi Gergler     </td><td>10/5/1998</td><td>tgergler1@salon.com      </td><td>NA</td><td>21360</td><td>8/20/2020</td><td>sports</td></tr>\n",
              "\t<tr><td>rphettis3  </td><td>Ruddy Phettis    </td><td>6/18/1984</td><td>rphettis3@npr.org        </td><td>EU</td><td>80047</td><td>9/20/2023</td><td>travel</td></tr>\n",
              "\t<tr><td>ttotman6   </td><td>Tamqrah Totman   </td><td>8/7/1986 </td><td>ttotman6@elpais.com      </td><td>AF</td><td>42669</td><td>3/10/2023</td><td>music </td></tr>\n",
              "\t<tr><td>kgrigoryev8</td><td>Krishna Grigoryev</td><td>5/25/1990</td><td>kgrigoryev8@quantcast.com</td><td>EU</td><td>93923</td><td>1/30/2023</td><td>travel</td></tr>\n",
              "\t<tr><td>mchittockb </td><td>Myriam Chittock  </td><td>1/26/1989</td><td>mchittockb@uiuc.edu      </td><td>AF</td><td>46304</td><td>8/29/2023</td><td>sports</td></tr>\n",
              "</tbody>\n",
              "</table>\n"
            ],
            "text/markdown": "\nA tibble: 6 × 8\n\n| username &lt;chr&gt; | full_name &lt;chr&gt; | birthdate &lt;chr&gt; | email &lt;chr&gt; | continent &lt;chr&gt; | followers &lt;dbl&gt; | last_login &lt;chr&gt; | interests &lt;chr&gt; |\n|---|---|---|---|---|---|---|---|\n| ckippen0    | Clevey Kippen     | 5/1/1991  | ckippen0@t-online.de      | NA | 12362 | 5/16/2023 | music  |\n| tgergler1   | Tedi Gergler      | 10/5/1998 | tgergler1@salon.com       | NA | 21360 | 8/20/2020 | sports |\n| rphettis3   | Ruddy Phettis     | 6/18/1984 | rphettis3@npr.org         | EU | 80047 | 9/20/2023 | travel |\n| ttotman6    | Tamqrah Totman    | 8/7/1986  | ttotman6@elpais.com       | AF | 42669 | 3/10/2023 | music  |\n| kgrigoryev8 | Krishna Grigoryev | 5/25/1990 | kgrigoryev8@quantcast.com | EU | 93923 | 1/30/2023 | travel |\n| mchittockb  | Myriam Chittock   | 1/26/1989 | mchittockb@uiuc.edu       | AF | 46304 | 8/29/2023 | sports |\n\n",
            "text/latex": "A tibble: 6 × 8\n\\begin{tabular}{llllllll}\n username & full\\_name & birthdate & email & continent & followers & last\\_login & interests\\\\\n <chr> & <chr> & <chr> & <chr> & <chr> & <dbl> & <chr> & <chr>\\\\\n\\hline\n\t ckippen0    & Clevey Kippen     & 5/1/1991  & ckippen0@t-online.de      & NA & 12362 & 5/16/2023 & music \\\\\n\t tgergler1   & Tedi Gergler      & 10/5/1998 & tgergler1@salon.com       & NA & 21360 & 8/20/2020 & sports\\\\\n\t rphettis3   & Ruddy Phettis     & 6/18/1984 & rphettis3@npr.org         & EU & 80047 & 9/20/2023 & travel\\\\\n\t ttotman6    & Tamqrah Totman    & 8/7/1986  & ttotman6@elpais.com       & AF & 42669 & 3/10/2023 & music \\\\\n\t kgrigoryev8 & Krishna Grigoryev & 5/25/1990 & kgrigoryev8@quantcast.com & EU & 93923 & 1/30/2023 & travel\\\\\n\t mchittockb  & Myriam Chittock   & 1/26/1989 & mchittockb@uiuc.edu       & AF & 46304 & 8/29/2023 & sports\\\\\n\\end{tabular}\n",
            "text/plain": [
              "  username    full_name         birthdate email                     continent\n",
              "1 ckippen0    Clevey Kippen     5/1/1991  ckippen0@t-online.de      NA       \n",
              "2 tgergler1   Tedi Gergler      10/5/1998 tgergler1@salon.com       NA       \n",
              "3 rphettis3   Ruddy Phettis     6/18/1984 rphettis3@npr.org         EU       \n",
              "4 ttotman6    Tamqrah Totman    8/7/1986  ttotman6@elpais.com       AF       \n",
              "5 kgrigoryev8 Krishna Grigoryev 5/25/1990 kgrigoryev8@quantcast.com EU       \n",
              "6 mchittockb  Myriam Chittock   1/26/1989 mchittockb@uiuc.edu       AF       \n",
              "  followers last_login interests\n",
              "1 12362     5/16/2023  music    \n",
              "2 21360     8/20/2020  sports   \n",
              "3 80047     9/20/2023  travel   \n",
              "4 42669     3/10/2023  music    \n",
              "5 93923     1/30/2023  travel   \n",
              "6 46304     8/29/2023  sports   "
            ]
          },
          "metadata": {}
        }
      ]
    },
    {
      "cell_type": "code",
      "source": [
        "#\n",
        "top_followers <- data %>%\n",
        "  select(followers) %>%\n",
        "  arrange(desc(followers))\n",
        "  head(10)\n",
        "\n",
        "\n",
        "print(top_followers)"
      ],
      "metadata": {
        "id": "7qa100btlI4Z",
        "outputId": "bc9756f2-a26e-4940-b040-25ce3717c667",
        "colab": {
          "base_uri": "https://localhost:8080/",
          "height": 284
        }
      },
      "execution_count": 69,
      "outputs": [
        {
          "output_type": "display_data",
          "data": {
            "text/html": [
              "10"
            ],
            "text/markdown": "10",
            "text/latex": "10",
            "text/plain": [
              "[1] 10"
            ]
          },
          "metadata": {}
        },
        {
          "output_type": "stream",
          "name": "stdout",
          "text": [
            "\u001b[90m# A tibble: 1,318 × 1\u001b[39m\n",
            "   followers\n",
            "       \u001b[3m\u001b[90m<dbl>\u001b[39m\u001b[23m\n",
            "\u001b[90m 1\u001b[39m     \u001b[4m9\u001b[24m\u001b[4m9\u001b[24m977\n",
            "\u001b[90m 2\u001b[39m     \u001b[4m9\u001b[24m\u001b[4m9\u001b[24m905\n",
            "\u001b[90m 3\u001b[39m     \u001b[4m9\u001b[24m\u001b[4m9\u001b[24m854\n",
            "\u001b[90m 4\u001b[39m     \u001b[4m9\u001b[24m\u001b[4m9\u001b[24m747\n",
            "\u001b[90m 5\u001b[39m     \u001b[4m9\u001b[24m\u001b[4m9\u001b[24m731\n",
            "\u001b[90m 6\u001b[39m     \u001b[4m9\u001b[24m\u001b[4m9\u001b[24m707\n",
            "\u001b[90m 7\u001b[39m     \u001b[4m9\u001b[24m\u001b[4m9\u001b[24m618\n",
            "\u001b[90m 8\u001b[39m     \u001b[4m9\u001b[24m\u001b[4m9\u001b[24m526\n",
            "\u001b[90m 9\u001b[39m     \u001b[4m9\u001b[24m\u001b[4m9\u001b[24m508\n",
            "\u001b[90m10\u001b[39m     \u001b[4m9\u001b[24m\u001b[4m9\u001b[24m419\n",
            "\u001b[90m# ℹ 1,308 more rows\u001b[39m\n"
          ]
        }
      ]
    },
    {
      "cell_type": "code",
      "source": [
        "#\n",
        "user_counts <- data %>%\n",
        "  group_by(continent) %>%\n",
        "  summarise(user_count = n())\n",
        "\n",
        "print(user_counts)"
      ],
      "metadata": {
        "id": "MjrZisnxlJUa",
        "outputId": "1a08824b-3ae8-44dd-9d8a-daf0fcbaa610",
        "colab": {
          "base_uri": "https://localhost:8080/"
        }
      },
      "execution_count": 64,
      "outputs": [
        {
          "output_type": "stream",
          "name": "stdout",
          "text": [
            "\u001b[90m# A tibble: 7 × 2\u001b[39m\n",
            "  continent user_count\n",
            "  \u001b[3m\u001b[90m<chr>\u001b[39m\u001b[23m          \u001b[3m\u001b[90m<int>\u001b[39m\u001b[23m\n",
            "\u001b[90m1\u001b[39m AF               127\n",
            "\u001b[90m2\u001b[39m AN                 1\n",
            "\u001b[90m3\u001b[39m AS               260\n",
            "\u001b[90m4\u001b[39m EU               172\n",
            "\u001b[90m5\u001b[39m OC               187\n",
            "\u001b[90m6\u001b[39m SA               107\n",
            "\u001b[90m7\u001b[39m \u001b[31mNA\u001b[39m               464\n"
          ]
        }
      ]
    }
  ]
}